{
  "nbformat": 4,
  "nbformat_minor": 0,
  "metadata": {
    "colab": {
      "provenance": [],
      "include_colab_link": true
    },
    "kernelspec": {
      "name": "python3",
      "display_name": "Python 3"
    },
    "language_info": {
      "name": "python"
    }
  },
  "cells": [
    {
      "cell_type": "markdown",
      "metadata": {
        "id": "view-in-github",
        "colab_type": "text"
      },
      "source": [
        "<a href=\"https://colab.research.google.com/github/suhaodatascichem/dashboard-streamlit/blob/main/aminoinsights_upload.ipynb\" target=\"_parent\"><img src=\"https://colab.research.google.com/assets/colab-badge.svg\" alt=\"Open In Colab\"/></a>"
      ]
    },
    {
      "cell_type": "code",
      "source": [
        "import streamlit as st\n",
        "import pandas as pd\n",
        "import matplotlib.pyplot as plt\n",
        "import seaborn as sns\n",
        "import plotly.express as px\n",
        "import os"
      ],
      "metadata": {
        "id": "b1yhMynGaJZj",
        "colab": {
          "base_uri": "https://localhost:8080/",
          "height": 383
        },
        "outputId": "b7956bb0-2be1-43cc-f810-2d4ec6b6f23c"
      },
      "execution_count": null,
      "outputs": [
        {
          "output_type": "error",
          "ename": "ModuleNotFoundError",
          "evalue": "No module named 'streamlit'",
          "traceback": [
            "\u001b[0;31m---------------------------------------------------------------------------\u001b[0m",
            "\u001b[0;31mModuleNotFoundError\u001b[0m                       Traceback (most recent call last)",
            "\u001b[0;32m<ipython-input-1-0630c5dbf50b>\u001b[0m in \u001b[0;36m<cell line: 0>\u001b[0;34m()\u001b[0m\n\u001b[0;32m----> 1\u001b[0;31m \u001b[0;32mimport\u001b[0m \u001b[0mstreamlit\u001b[0m \u001b[0;32mas\u001b[0m \u001b[0mst\u001b[0m\u001b[0;34m\u001b[0m\u001b[0;34m\u001b[0m\u001b[0m\n\u001b[0m\u001b[1;32m      2\u001b[0m \u001b[0;32mimport\u001b[0m \u001b[0mpandas\u001b[0m \u001b[0;32mas\u001b[0m \u001b[0mpd\u001b[0m\u001b[0;34m\u001b[0m\u001b[0;34m\u001b[0m\u001b[0m\n\u001b[1;32m      3\u001b[0m \u001b[0;32mimport\u001b[0m \u001b[0mmatplotlib\u001b[0m\u001b[0;34m.\u001b[0m\u001b[0mpyplot\u001b[0m \u001b[0;32mas\u001b[0m \u001b[0mplt\u001b[0m\u001b[0;34m\u001b[0m\u001b[0;34m\u001b[0m\u001b[0m\n\u001b[1;32m      4\u001b[0m \u001b[0;32mimport\u001b[0m \u001b[0mseaborn\u001b[0m \u001b[0;32mas\u001b[0m \u001b[0msns\u001b[0m\u001b[0;34m\u001b[0m\u001b[0;34m\u001b[0m\u001b[0m\n\u001b[1;32m      5\u001b[0m \u001b[0;32mimport\u001b[0m \u001b[0mplotly\u001b[0m\u001b[0;34m.\u001b[0m\u001b[0mexpress\u001b[0m \u001b[0;32mas\u001b[0m \u001b[0mpx\u001b[0m\u001b[0;34m\u001b[0m\u001b[0;34m\u001b[0m\u001b[0m\n",
            "\u001b[0;31mModuleNotFoundError\u001b[0m: No module named 'streamlit'",
            "",
            "\u001b[0;31m---------------------------------------------------------------------------\u001b[0;32m\nNOTE: If your import is failing due to a missing package, you can\nmanually install dependencies using either !pip or !apt.\n\nTo view examples of installing some common dependencies, click the\n\"Open Examples\" button below.\n\u001b[0;31m---------------------------------------------------------------------------\u001b[0m\n"
          ],
          "errorDetails": {
            "actions": [
              {
                "action": "open_url",
                "actionText": "Open Examples",
                "url": "/notebooks/snippets/importing_libraries.ipynb"
              }
            ]
          }
        }
      ]
    },
    {
      "cell_type": "code",
      "source": [
        "# App title\n",
        "st.title(\"Customer Data Dashboard\")\n",
        "\n",
        "# File uploader (customers upload their Excel files)\n",
        "uploaded_files = st.file_uploader(\"Upload Excel file(s)\", type=[\"xlsx\"], accept_multiple_files=True)\n",
        "\n",
        "if uploaded_files:\n",
        "    st.write(f\"📂 {len(uploaded_files)} file(s) uploaded.\")\n",
        "\n",
        "    # Read and process all uploaded files\n",
        "    dataframes = []\n",
        "    for file in uploaded_files:\n",
        "        df = pd.read_excel(file)  # Read Excel file\n",
        "        df[\"Source File\"] = file.name  # Track which file it came from\n",
        "        dataframes.append(df)\n",
        "\n",
        "    # Merge all data into one DataFrame\n",
        "    if dataframes:\n",
        "        df = pd.concat(dataframes, ignore_index=True)\n",
        "        st.write(\"### Processed Data Preview\")\n",
        "        st.dataframe(df)\n",
        "\n",
        "        # Show data summary\n",
        "        st.write(f\"✅ Total Records: {df.shape[0]}\")\n"
      ],
      "metadata": {
        "id": "pFUcsBhzTGzi"
      },
      "execution_count": null,
      "outputs": []
    },
    {
      "cell_type": "code",
      "source": [
        "# Sidebar options\n",
        "st.sidebar.header(\"Filters\")\n",
        "\n",
        "# Customer filter\n",
        "customers = df[\"Customer\"].unique()\n",
        "selected_customer = st.sidebar.multiselect(\"Select Customer(s)\", customers, default=customers)\n",
        "\n",
        "# Material Type filter\n",
        "material_types = df[\"Material\"].unique()\n",
        "selected_material = st.sidebar.multiselect(\"Select Material Type(s)\", material_types, default=material_types)\n",
        "\n",
        "# Date range filter\n",
        "min_date = df[\"Release Date\"].min()\n",
        "max_date = df[\"Release Date\"].max()\n",
        "start_date, end_date = st.sidebar.date_input(\"Select Date Range\", [min_date, max_date], min_value=min_date, max_value=max_date)\n",
        "\n",
        "# Convert date inputs to datetime\n",
        "start_date = pd.to_datetime(start_date)\n",
        "end_date = pd.to_datetime(end_date)\n",
        "\n",
        "# Reset filters button\n",
        "if st.sidebar.button(\"Reset Filters\"):\n",
        "    selected_customer = customers\n",
        "    selected_material = material_types\n",
        "    start_date = min_date\n",
        "    end_date = max_date\n",
        "    st.sidebar.experimental_rerun()  # This forces the app to rerun with default filters\n",
        "\n",
        "# Apply filters\n",
        "filtered_df = df[\n",
        "    (df[\"Customer\"].isin(selected_customer)) &\n",
        "    (df[\"Material\"].isin(selected_material)) &\n",
        "    (df[\"Release Date\"] >= start_date) &\n",
        "    (df[\"Release Date\"] <= end_date)\n",
        "]\n",
        "\n",
        "# Filter the dataframe\n",
        "filtered_df = df[df[\"Customer\"].isin(selected_customer) & df[\"Material\"].isin(selected_material)]\n",
        "\n",
        "# Display count of rows after filtering\n",
        "st.write(f\"🔍 **Total Records After Filtering:** {filtered_df.shape[0]}\")\n",
        "\n",
        "st.dataframe(filtered_df)"
      ],
      "metadata": {
        "colab": {
          "base_uri": "https://localhost:8080/"
        },
        "id": "RFp7NFZ14U0a",
        "outputId": "21f4f93d-23be-4699-9d3e-98b95f3bebad",
        "collapsed": true
      },
      "execution_count": null,
      "outputs": [
        {
          "output_type": "stream",
          "name": "stderr",
          "text": [
            "2025-03-20 12:12:01.212 WARNING streamlit.runtime.scriptrunner_utils.script_run_context: Thread 'MainThread': missing ScriptRunContext! This warning can be ignored when running in bare mode.\n",
            "2025-03-20 12:12:01.438 \n",
            "  \u001b[33m\u001b[1mWarning:\u001b[0m to view this Streamlit app on a browser, run it with the following\n",
            "  command:\n",
            "\n",
            "    streamlit run /usr/local/lib/python3.11/dist-packages/colab_kernel_launcher.py [ARGUMENTS]\n",
            "2025-03-20 12:12:01.439 Thread 'MainThread': missing ScriptRunContext! This warning can be ignored when running in bare mode.\n",
            "2025-03-20 12:12:01.442 Thread 'MainThread': missing ScriptRunContext! This warning can be ignored when running in bare mode.\n",
            "2025-03-20 12:12:01.443 Thread 'MainThread': missing ScriptRunContext! This warning can be ignored when running in bare mode.\n",
            "2025-03-20 12:12:01.444 Thread 'MainThread': missing ScriptRunContext! This warning can be ignored when running in bare mode.\n",
            "2025-03-20 12:12:01.445 Thread 'MainThread': missing ScriptRunContext! This warning can be ignored when running in bare mode.\n",
            "2025-03-20 12:12:01.446 Session state does not function when running a script without `streamlit run`\n",
            "2025-03-20 12:12:01.448 Thread 'MainThread': missing ScriptRunContext! This warning can be ignored when running in bare mode.\n",
            "2025-03-20 12:12:01.449 Thread 'MainThread': missing ScriptRunContext! This warning can be ignored when running in bare mode.\n",
            "2025-03-20 12:12:01.460 Thread 'MainThread': missing ScriptRunContext! This warning can be ignored when running in bare mode.\n",
            "2025-03-20 12:12:01.461 Thread 'MainThread': missing ScriptRunContext! This warning can be ignored when running in bare mode.\n",
            "2025-03-20 12:12:01.462 Thread 'MainThread': missing ScriptRunContext! This warning can be ignored when running in bare mode.\n",
            "2025-03-20 12:12:01.463 Thread 'MainThread': missing ScriptRunContext! This warning can be ignored when running in bare mode.\n",
            "2025-03-20 12:12:01.465 Thread 'MainThread': missing ScriptRunContext! This warning can be ignored when running in bare mode.\n",
            "2025-03-20 12:12:01.467 Thread 'MainThread': missing ScriptRunContext! This warning can be ignored when running in bare mode.\n",
            "2025-03-20 12:12:01.467 Thread 'MainThread': missing ScriptRunContext! This warning can be ignored when running in bare mode.\n",
            "2025-03-20 12:12:01.468 Thread 'MainThread': missing ScriptRunContext! This warning can be ignored when running in bare mode.\n",
            "2025-03-20 12:12:01.469 Thread 'MainThread': missing ScriptRunContext! This warning can be ignored when running in bare mode.\n",
            "2025-03-20 12:12:01.470 Thread 'MainThread': missing ScriptRunContext! This warning can be ignored when running in bare mode.\n",
            "2025-03-20 12:12:01.475 Thread 'MainThread': missing ScriptRunContext! This warning can be ignored when running in bare mode.\n",
            "2025-03-20 12:12:01.476 Thread 'MainThread': missing ScriptRunContext! This warning can be ignored when running in bare mode.\n",
            "2025-03-20 12:12:01.477 Thread 'MainThread': missing ScriptRunContext! This warning can be ignored when running in bare mode.\n",
            "2025-03-20 12:12:01.478 Thread 'MainThread': missing ScriptRunContext! This warning can be ignored when running in bare mode.\n",
            "2025-03-20 12:12:02.031 Thread 'MainThread': missing ScriptRunContext! This warning can be ignored when running in bare mode.\n",
            "2025-03-20 12:12:02.032 Thread 'MainThread': missing ScriptRunContext! This warning can be ignored when running in bare mode.\n",
            "2025-03-20 12:12:02.034 Thread 'MainThread': missing ScriptRunContext! This warning can be ignored when running in bare mode.\n",
            "2025-03-20 12:12:02.036 Thread 'MainThread': missing ScriptRunContext! This warning can be ignored when running in bare mode.\n",
            "2025-03-20 12:12:02.037 Thread 'MainThread': missing ScriptRunContext! This warning can be ignored when running in bare mode.\n",
            "2025-03-20 12:12:02.087 Thread 'MainThread': missing ScriptRunContext! This warning can be ignored when running in bare mode.\n",
            "2025-03-20 12:12:02.088 Thread 'MainThread': missing ScriptRunContext! This warning can be ignored when running in bare mode.\n"
          ]
        }
      ]
    },
    {
      "cell_type": "code",
      "source": [
        "# create Visualization\n",
        "chart_type = st.sidebar.selectbox(\"Select Chart Type\", [\"Scatter Plot\", \"Bar Chart\"])\n",
        "\n",
        "# Column selection\n",
        "numeric_columns = df.select_dtypes(include=['number']).columns.tolist()\n",
        "\n",
        "if len(numeric_columns) < 2:\n",
        "    st.error(\"Dataset must contain at least two numeric columns for visualization.\")\n",
        "else:\n",
        "    x_axis = st.sidebar.selectbox(\"Select X-Axis\", numeric_columns)\n",
        "    y_axis = st.sidebar.selectbox(\"Select Y-Axis\", numeric_columns)\n",
        "\n",
        "    # Generate chart\n",
        "    st.title(\"📊 Data Visualization Dashboard\")\n",
        "\n",
        "    if chart_type == \"Scatter Plot\":\n",
        "        fig = px.scatter(df, x=x_axis, y=y_axis, title=f\"Scatter Plot: {x_axis} vs {y_axis}\")\n",
        "        st.plotly_chart(fig, use_container_width=True)\n",
        "\n",
        "    elif chart_type == \"Bar Chart\":\n",
        "        fig = px.bar(df, x=x_axis, y=y_axis, title=f\"Bar Chart: {x_axis} vs {y_axis}\")\n",
        "        st.plotly_chart(fig, use_container_width=True)\n",
        "\n",
        "    # Show dataset preview\n",
        "    with st.expander(\"🔍 View Dataset\"):\n",
        "        st.write(df.head())"
      ],
      "metadata": {
        "id": "NfLaJx-K4O1t"
      },
      "execution_count": null,
      "outputs": []
    },
    {
      "cell_type": "code",
      "source": [],
      "metadata": {
        "id": "5pvGj_yO4Xk0"
      },
      "execution_count": null,
      "outputs": []
    }
  ]
}