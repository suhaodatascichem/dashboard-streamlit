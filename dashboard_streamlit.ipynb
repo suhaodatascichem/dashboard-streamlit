{
  "nbformat": 4,
  "nbformat_minor": 0,
  "metadata": {
    "colab": {
      "provenance": [],
      "authorship_tag": "ABX9TyM3Fe7YJW4da0vPVd0AjZpI",
      "include_colab_link": true
    },
    "kernelspec": {
      "name": "python3",
      "display_name": "Python 3"
    },
    "language_info": {
      "name": "python"
    }
  },
  "cells": [
    {
      "cell_type": "markdown",
      "metadata": {
        "id": "view-in-github",
        "colab_type": "text"
      },
      "source": [
        "<a href=\"https://colab.research.google.com/github/suhaodatascichem/dashboard-streamlit/blob/main/dashboard_streamlit.ipynb\" target=\"_parent\"><img src=\"https://colab.research.google.com/assets/colab-badge.svg\" alt=\"Open In Colab\"/></a>"
      ]
    },
    {
      "cell_type": "code",
      "source": [
        "import streamlit as st\n",
        "import pandas as pd\n",
        "import matplotlib.pyplot as plt\n",
        "import seaborn as sns\n"
      ],
      "metadata": {
        "id": "b1yhMynGaJZj",
        "outputId": "a8c6eef9-ac6e-4f79-d18e-49c9748e4732",
        "colab": {
          "base_uri": "https://localhost:8080/",
          "height": 366
        }
      },
      "execution_count": 1,
      "outputs": [
        {
          "output_type": "error",
          "ename": "ModuleNotFoundError",
          "evalue": "No module named 'streamlit'",
          "traceback": [
            "\u001b[0;31m---------------------------------------------------------------------------\u001b[0m",
            "\u001b[0;31mModuleNotFoundError\u001b[0m                       Traceback (most recent call last)",
            "\u001b[0;32m<ipython-input-1-75497fbf2bb3>\u001b[0m in \u001b[0;36m<cell line: 0>\u001b[0;34m()\u001b[0m\n\u001b[0;32m----> 1\u001b[0;31m \u001b[0;32mimport\u001b[0m \u001b[0mstreamlit\u001b[0m \u001b[0;32mas\u001b[0m \u001b[0mst\u001b[0m\u001b[0;34m\u001b[0m\u001b[0;34m\u001b[0m\u001b[0m\n\u001b[0m\u001b[1;32m      2\u001b[0m \u001b[0;32mimport\u001b[0m \u001b[0mpandas\u001b[0m \u001b[0;32mas\u001b[0m \u001b[0mpd\u001b[0m\u001b[0;34m\u001b[0m\u001b[0;34m\u001b[0m\u001b[0m\n\u001b[1;32m      3\u001b[0m \u001b[0;32mimport\u001b[0m \u001b[0mmatplotlib\u001b[0m\u001b[0;34m.\u001b[0m\u001b[0mpyplot\u001b[0m \u001b[0;32mas\u001b[0m \u001b[0mplt\u001b[0m\u001b[0;34m\u001b[0m\u001b[0;34m\u001b[0m\u001b[0m\n\u001b[1;32m      4\u001b[0m \u001b[0;32mimport\u001b[0m \u001b[0mseaborn\u001b[0m \u001b[0;32mas\u001b[0m \u001b[0msns\u001b[0m\u001b[0;34m\u001b[0m\u001b[0;34m\u001b[0m\u001b[0m\n",
            "\u001b[0;31mModuleNotFoundError\u001b[0m: No module named 'streamlit'",
            "",
            "\u001b[0;31m---------------------------------------------------------------------------\u001b[0;32m\nNOTE: If your import is failing due to a missing package, you can\nmanually install dependencies using either !pip or !apt.\n\nTo view examples of installing some common dependencies, click the\n\"Open Examples\" button below.\n\u001b[0;31m---------------------------------------------------------------------------\u001b[0m\n"
          ],
          "errorDetails": {
            "actions": [
              {
                "action": "open_url",
                "actionText": "Open Examples",
                "url": "/notebooks/snippets/importing_libraries.ipynb"
              }
            ]
          }
        }
      ]
    },
    {
      "cell_type": "code",
      "execution_count": null,
      "metadata": {
        "id": "aMgS7WvYwOQH"
      },
      "outputs": [],
      "source": [
        "\n",
        "# Load your dataset\n",
        "# Replace 'your_data.csv' with your actual data file\n",
        "data = pd.read_csv('your_data.csv')\n",
        "\n",
        "# Streamlit app title\n",
        "st.title('Interactive Data Visualization Dashboard')\n",
        "\n",
        "# Sidebar for selecting features\n",
        "st.sidebar.header('Select Features')\n",
        "\n",
        "# Select columns for the x-axis and y-axis for scatter plots\n",
        "x_axis = st.sidebar.selectbox('Select X-axis:', data.columns)\n",
        "y_axis = st.sidebar.selectbox('Select Y-axis:', data.columns)\n",
        "\n",
        "# Select a categorical column for bar charts\n",
        "categorical_column = st.sidebar.selectbox('Select Categorical Column for Bar Chart:', data.select_dtypes(include=['object']).columns)\n",
        "\n",
        "# Show the selected data\n",
        "st.subheader('Data Preview')\n",
        "st.write(data.head())\n",
        "\n",
        "# Scatter plot\n",
        "st.subheader('Scatter Plot')\n",
        "fig, ax = plt.subplots()\n",
        "sns.scatterplot(data=data, x=x_axis, y=y_axis, ax=ax)\n",
        "st.pyplot(fig)\n",
        "\n",
        "# Bar chart\n",
        "st.subheader('Bar Chart')\n",
        "fig, ax = plt.subplots()\n",
        "sns.countplot(data=data, x=categorical_column, ax=ax)\n",
        "st.pyplot(fig)\n",
        "\n",
        "# Optional: Add more charts or features as needed\n",
        "# For example, a histogram of a selected numerical column\n",
        "numerical_column = st.sidebar.selectbox('Select Numerical Column for Histogram:', data.select_dtypes(include=['number']).columns)\n",
        "\n",
        "st.subheader('Histogram')\n",
        "fig, ax = plt.subplots()\n",
        "sns.histplot(data[numerical_column], bins=30, kde=True, ax=ax)\n",
        "st.pyplot(fig)\n",
        "\n",
        "# Run the Streamlit app\n",
        "if __name__ == '__main__':\n",
        "    st.write(\"Use the sidebar to select features and visualize the data.\")\n"
      ]
    }
  ]
}