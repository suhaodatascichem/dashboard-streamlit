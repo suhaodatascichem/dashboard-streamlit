{
  "nbformat": 4,
  "nbformat_minor": 0,
  "metadata": {
    "colab": {
      "provenance": [],
      "authorship_tag": "ABX9TyNR2+iNT/DZLh2aNK/1/TdA",
      "include_colab_link": true
    },
    "kernelspec": {
      "name": "python3",
      "display_name": "Python 3"
    },
    "language_info": {
      "name": "python"
    }
  },
  "cells": [
    {
      "cell_type": "markdown",
      "metadata": {
        "id": "view-in-github",
        "colab_type": "text"
      },
      "source": [
        "<a href=\"https://colab.research.google.com/github/suhaodatascichem/dashboard-streamlit/blob/main/dashboard_streamlit.ipynb\" target=\"_parent\"><img src=\"https://colab.research.google.com/assets/colab-badge.svg\" alt=\"Open In Colab\"/></a>"
      ]
    },
    {
      "cell_type": "code",
      "source": [
        "import streamlit as st\n",
        "import pandas as pd\n",
        "import matplotlib.pyplot as plt\n",
        "import seaborn as sns\n",
        "import plotly.express as px\n"
      ],
      "metadata": {
        "id": "b1yhMynGaJZj"
      },
      "execution_count": null,
      "outputs": []
    },
    {
      "cell_type": "code",
      "source": [
        "# Load your dataset\n",
        "# Replace 'your_data.csv' with your actual data file\n",
        "url = 'https://github.com/suhaodatascichem/dashboard-streamlit/raw/refs/heads/main/Soybean%20meal.xlsx'\n",
        "df = pd.read_excel(url, engine=\"openpyxl\")"
      ],
      "metadata": {
        "id": "0klHj2V5a1Kp"
      },
      "execution_count": null,
      "outputs": []
    },
    {
      "cell_type": "code",
      "source": [
        "df.columns"
      ],
      "metadata": {
        "id": "NFJWkDTv8lpW",
        "outputId": "64417d65-54e4-4d18-80ba-e91935819d0f",
        "colab": {
          "base_uri": "https://localhost:8080/"
        }
      },
      "execution_count": 15,
      "outputs": [
        {
          "output_type": "execute_result",
          "data": {
            "text/plain": [
              "Index(['Customer', 'Lab Customer', 'Country', 'Origin', 'Supplier',\n",
              "       'Country of processing', 'Lab Code', 'Type', 'Re Classification',\n",
              "       'Material', 'Release Date', 'Description', 'Sample Description1',\n",
              "       'Sample Description2', 'Sample Description3', 'Sample Description4',\n",
              "       'EQA', 'DM', 'CP', 'MET', 'CYS', 'MET_CYS', 'M+C in CP', 'LYS',\n",
              "       'Lys in CP', 'THR', 'Thr in CP', 'TRP', 'Trp in CP', 'ARG', 'ILE',\n",
              "       'LEU', 'VAL', 'HIS', 'PHE', 'GLY', 'SER', 'PRO', 'ALA', 'ASP', 'GLU',\n",
              "       'NH3', 'SUM_W_NH3', 'SUM_WO_NH3', 'CP_PROX', 'EE_HCL', 'FIB', 'ASH',\n",
              "       'STA', 'ADF', 'NDF', 'SUG', 'Tot_P', 'PHYTP', 'NE_GP', 'NE_GP_KCAL',\n",
              "       'NE_S', 'NE_S_KCAL', 'AME', 'AME_KCAL', 'PCI_RED', 'TOT_GLUC_RED',\n",
              "       'PDI_RED', 'KOH_PS_RED', 'TIA_A_RED', 'RLYS_RED',\n",
              "       'LYS_REACTIVE_LYS_RATIO_RED_DMS_NIR'],\n",
              "      dtype='object')"
            ]
          },
          "metadata": {},
          "execution_count": 15
        }
      ]
    },
    {
      "cell_type": "code",
      "source": [
        "# Sidebar options\n",
        "st.sidebar.header(\"Filters\")\n",
        "\n",
        "# Customer filter\n",
        "customers = df[\"Customer\"].unique()\n",
        "selected_customer = st.sidebar.multiselect(\"Select Customer(s)\", customers, default=customers)\n",
        "\n",
        "# Material Type filter\n",
        "material_types = df[\"Material\"].unique()\n",
        "selected_material = st.sidebar.multiselect(\"Select Material Type(s)\", material_types, default=material_types)\n",
        "\n",
        "# Filter the dataframe\n",
        "filtered_df = df[df[\"Customer\"].isin(selected_customer) & df[\"Material\"].isin(selected_material)]\n",
        "\n",
        "# ---- Display Data ----\n",
        "st.write(\"### Filtered Data\")\n",
        "\n",
        "# Display count of rows after filtering\n",
        "st.write(f\"🔍 **Total Records After Filtering:** {filtered_df.shape[0]}\")\n",
        "\n",
        "st.dataframe(filtered_df)"
      ],
      "metadata": {
        "colab": {
          "base_uri": "https://localhost:8080/"
        },
        "id": "RFp7NFZ14U0a",
        "outputId": "21f4f93d-23be-4699-9d3e-98b95f3bebad",
        "collapsed": true
      },
      "execution_count": null,
      "outputs": [
        {
          "output_type": "stream",
          "name": "stderr",
          "text": [
            "2025-03-20 12:12:01.212 WARNING streamlit.runtime.scriptrunner_utils.script_run_context: Thread 'MainThread': missing ScriptRunContext! This warning can be ignored when running in bare mode.\n",
            "2025-03-20 12:12:01.438 \n",
            "  \u001b[33m\u001b[1mWarning:\u001b[0m to view this Streamlit app on a browser, run it with the following\n",
            "  command:\n",
            "\n",
            "    streamlit run /usr/local/lib/python3.11/dist-packages/colab_kernel_launcher.py [ARGUMENTS]\n",
            "2025-03-20 12:12:01.439 Thread 'MainThread': missing ScriptRunContext! This warning can be ignored when running in bare mode.\n",
            "2025-03-20 12:12:01.442 Thread 'MainThread': missing ScriptRunContext! This warning can be ignored when running in bare mode.\n",
            "2025-03-20 12:12:01.443 Thread 'MainThread': missing ScriptRunContext! This warning can be ignored when running in bare mode.\n",
            "2025-03-20 12:12:01.444 Thread 'MainThread': missing ScriptRunContext! This warning can be ignored when running in bare mode.\n",
            "2025-03-20 12:12:01.445 Thread 'MainThread': missing ScriptRunContext! This warning can be ignored when running in bare mode.\n",
            "2025-03-20 12:12:01.446 Session state does not function when running a script without `streamlit run`\n",
            "2025-03-20 12:12:01.448 Thread 'MainThread': missing ScriptRunContext! This warning can be ignored when running in bare mode.\n",
            "2025-03-20 12:12:01.449 Thread 'MainThread': missing ScriptRunContext! This warning can be ignored when running in bare mode.\n",
            "2025-03-20 12:12:01.460 Thread 'MainThread': missing ScriptRunContext! This warning can be ignored when running in bare mode.\n",
            "2025-03-20 12:12:01.461 Thread 'MainThread': missing ScriptRunContext! This warning can be ignored when running in bare mode.\n",
            "2025-03-20 12:12:01.462 Thread 'MainThread': missing ScriptRunContext! This warning can be ignored when running in bare mode.\n",
            "2025-03-20 12:12:01.463 Thread 'MainThread': missing ScriptRunContext! This warning can be ignored when running in bare mode.\n",
            "2025-03-20 12:12:01.465 Thread 'MainThread': missing ScriptRunContext! This warning can be ignored when running in bare mode.\n",
            "2025-03-20 12:12:01.467 Thread 'MainThread': missing ScriptRunContext! This warning can be ignored when running in bare mode.\n",
            "2025-03-20 12:12:01.467 Thread 'MainThread': missing ScriptRunContext! This warning can be ignored when running in bare mode.\n",
            "2025-03-20 12:12:01.468 Thread 'MainThread': missing ScriptRunContext! This warning can be ignored when running in bare mode.\n",
            "2025-03-20 12:12:01.469 Thread 'MainThread': missing ScriptRunContext! This warning can be ignored when running in bare mode.\n",
            "2025-03-20 12:12:01.470 Thread 'MainThread': missing ScriptRunContext! This warning can be ignored when running in bare mode.\n",
            "2025-03-20 12:12:01.475 Thread 'MainThread': missing ScriptRunContext! This warning can be ignored when running in bare mode.\n",
            "2025-03-20 12:12:01.476 Thread 'MainThread': missing ScriptRunContext! This warning can be ignored when running in bare mode.\n",
            "2025-03-20 12:12:01.477 Thread 'MainThread': missing ScriptRunContext! This warning can be ignored when running in bare mode.\n",
            "2025-03-20 12:12:01.478 Thread 'MainThread': missing ScriptRunContext! This warning can be ignored when running in bare mode.\n",
            "2025-03-20 12:12:02.031 Thread 'MainThread': missing ScriptRunContext! This warning can be ignored when running in bare mode.\n",
            "2025-03-20 12:12:02.032 Thread 'MainThread': missing ScriptRunContext! This warning can be ignored when running in bare mode.\n",
            "2025-03-20 12:12:02.034 Thread 'MainThread': missing ScriptRunContext! This warning can be ignored when running in bare mode.\n",
            "2025-03-20 12:12:02.036 Thread 'MainThread': missing ScriptRunContext! This warning can be ignored when running in bare mode.\n",
            "2025-03-20 12:12:02.037 Thread 'MainThread': missing ScriptRunContext! This warning can be ignored when running in bare mode.\n",
            "2025-03-20 12:12:02.087 Thread 'MainThread': missing ScriptRunContext! This warning can be ignored when running in bare mode.\n",
            "2025-03-20 12:12:02.088 Thread 'MainThread': missing ScriptRunContext! This warning can be ignored when running in bare mode.\n"
          ]
        }
      ]
    },
    {
      "cell_type": "code",
      "source": [
        "# create Visualization\n",
        "chart_type = st.sidebar.selectbox(\"Select Chart Type\", [\"Scatter Plot\", \"Bar Chart\"])\n",
        "\n",
        "# Column selection\n",
        "numeric_columns = df.select_dtypes(include=['number']).columns.tolist()\n",
        "\n",
        "if len(numeric_columns) < 2:\n",
        "    st.error(\"Dataset must contain at least two numeric columns for visualization.\")\n",
        "else:\n",
        "    x_axis = st.sidebar.selectbox(\"Select X-Axis\", numeric_columns)\n",
        "    y_axis = st.sidebar.selectbox(\"Select Y-Axis\", numeric_columns)\n",
        "\n",
        "    # Generate chart\n",
        "    st.title(\"📊 Data Visualization Dashboard\")\n",
        "\n",
        "    if chart_type == \"Scatter Plot\":\n",
        "        fig = px.scatter(df, x=x_axis, y=y_axis, title=f\"Scatter Plot: {x_axis} vs {y_axis}\")\n",
        "        st.plotly_chart(fig, use_container_width=True)\n",
        "\n",
        "    elif chart_type == \"Bar Chart\":\n",
        "        fig = px.bar(df, x=x_axis, y=y_axis, title=f\"Bar Chart: {x_axis} vs {y_axis}\")\n",
        "        st.plotly_chart(fig, use_container_width=True)\n",
        "\n",
        "    # Show dataset preview\n",
        "    with st.expander(\"🔍 View Dataset\"):\n",
        "        st.write(df.head())"
      ],
      "metadata": {
        "id": "NfLaJx-K4O1t"
      },
      "execution_count": null,
      "outputs": []
    },
    {
      "cell_type": "code",
      "source": [],
      "metadata": {
        "id": "5pvGj_yO4Xk0"
      },
      "execution_count": null,
      "outputs": []
    }
  ]
}