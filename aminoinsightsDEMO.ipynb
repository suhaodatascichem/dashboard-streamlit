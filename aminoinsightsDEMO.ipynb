{
  "nbformat": 4,
  "nbformat_minor": 0,
  "metadata": {
    "colab": {
      "provenance": [],
      "authorship_tag": "ABX9TyNk20UScBQYQ7XDU+jlFHPf",
      "include_colab_link": true
    },
    "kernelspec": {
      "name": "python3",
      "display_name": "Python 3"
    },
    "language_info": {
      "name": "python"
    }
  },
  "cells": [
    {
      "cell_type": "markdown",
      "metadata": {
        "id": "view-in-github",
        "colab_type": "text"
      },
      "source": [
        "<a href=\"https://colab.research.google.com/github/suhaodatascichem/dashboard-streamlit/blob/main/aminoinsightsDEMO.ipynb\" target=\"_parent\"><img src=\"https://colab.research.google.com/assets/colab-badge.svg\" alt=\"Open In Colab\"/></a>"
      ]
    },
    {
      "cell_type": "code",
      "source": [
        "import streamlit as st\n",
        "import pandas as pd\n",
        "import matplotlib.pyplot as plt\n",
        "import seaborn as sns\n",
        "import plotly.express as px"
      ],
      "metadata": {
        "id": "b1yhMynGaJZj"
      },
      "execution_count": null,
      "outputs": []
    },
    {
      "cell_type": "code",
      "source": [
        "# Load your dataset\n",
        "# Replace 'your_data.csv' with your actual data file\n",
        "url = 'https://github.com/suhaodatascichem/dashboard-streamlit/raw/refs/heads/main/Soybean%20meal.xlsx'\n",
        "df = pd.read_excel(url, engine=\"openpyxl\")"
      ],
      "metadata": {
        "id": "0klHj2V5a1Kp"
      },
      "execution_count": null,
      "outputs": []
    },
    {
      "cell_type": "code",
      "source": [
        "# App title\n",
        "st.title(\"Customer Data Dashboard\")\n",
        "\n",
        "    # ---- Sidebar Filters ----\n",
        "st.sidebar.header(\"Filters\")\n",
        "\n",
        "    # Ensure \"Date\" column is in datetime format\n",
        "if \"Release Date\" in df.columns:\n",
        "    df[\"Release Date\"] = pd.to_datetime(df[\"Release Date\"])\n",
        "\n",
        "    # Date Range Filter\n",
        "    min_date, max_date = df[\"Release Date\"].min(), df[\"Release Date\"].max()\n",
        "    start_date, end_date = st.sidebar.date_input(\"Select Date Range\", [min_date, max_date], min_value=min_date, max_value=max_date)\n",
        "\n",
        "    # Customer Filter (Dropdown with Multi-selection)\n",
        "if \"Customer\" in df.columns:\n",
        "    customers = df[\"Customer\"].unique().tolist()\n",
        "  # Add \"Select All\" option at the beginning\n",
        "    all_customers_option = [\"Select All\"] + customers\n",
        "  # Display multiselect with \"Select All\" option\n",
        "    selected_customers = st.sidebar.multiselect(\"Select Customer(s)\", all_customers_option, default=[\"Select All\"])\n",
        "\n",
        "    # If \"Select All\" is chosen, use all customers\n",
        "    if \"Select All\" in selected_customers:\n",
        "        selected_customers = customers  # Reset to all customers\n",
        "\n",
        "# Material Type Filter (Dropdown with Multi-selection)\n",
        "if \"Material\" in df.columns:\n",
        "    material_types = df[\"Material\"].unique()\n",
        "    selected_materials = st.sidebar.multiselect(\"Select Material Type(s)\", material_types, default=material_types)\n",
        "\n",
        "# ---- Apply Filters ----\n",
        "filtered_df = df.copy()\n",
        "\n",
        "if \"Release Date\" in df.columns:\n",
        "    filtered_df = filtered_df[(filtered_df[\"Release Date\"] >= pd.to_datetime(start_date)) & (filtered_df[\"Release Date\"] <= pd.to_datetime(end_date))]\n",
        "if \"Customer\" in df.columns:\n",
        "    filtered_df = filtered_df[filtered_df[\"Customer\"].isin(selected_customers)]\n",
        "if \"Material\" in df.columns:\n",
        "    filtered_df = filtered_df[filtered_df[\"Material\"].isin(selected_materials)]\n",
        "\n",
        "# ---- Display Filtered Data ----\n",
        "st.write(\"### Filtered Data Preview\")\n",
        "st.write(f\"🔍 **Total Records After Filtering:** {filtered_df.shape[0]}\")\n",
        "st.dataframe(filtered_df)\n",
        "\n",
        "\n",
        "# ---- Charts Section ----\n",
        "st.write(\"## 📊 Data Visualizations\")\n",
        "\n",
        "# Predefined Charts\n",
        "if \"CP\" in filtered_df.columns and \"DM\" in filtered_df.columns:\n",
        "    fig1 = px.line(filtered_df, x=\"CP\", y=\"DM\", title=\"📈 DM Over CP\")\n",
        "    st.plotly_chart(fig1)\n",
        "\n",
        "if \"CP\" in filtered_df.columns and \"NE_S\" in filtered_df.columns:\n",
        "    fig2 = px.bar(filtered_df, x=\"CP\", y=\"NE_S\", title=\"🏢 NE_S over CP\")\n",
        "    st.plotly_chart(fig2)\n",
        "\n",
        "if \"CP\" in filtered_df.columns and \"AME_KCAL\" in filtered_df.columns:\n",
        "    fig3 = px.bar(filtered_df, x=\"CP\", y=\"AME_KCAL\", title=\"📦 AME_KCAL over CP\")\n",
        "    st.plotly_chart(fig3)\n",
        "\n",
        "if \"CP\" in filtered_df.columns and \"NH3\" in filtered_df.columns:\n",
        "    fig4 = px.scatter(filtered_df, x=\"CP\", y=\"NH3\", title=\"🔍 NH3 vs CP\")\n",
        "    st.plotly_chart(fig4)\n",
        "\n",
        "# ---- Custom Chart Selection ----\n",
        "st.write(\"### 🛠 Create Your Own Chart\")\n",
        "\n",
        "# Column selection for custom charts\n",
        "available_columns = list(filtered_df.select_dtypes(include=[\"number\", \"object\"]).columns)\n",
        "x_axis = st.selectbox(\"Select X-Axis\", available_columns)\n",
        "y_axis = st.selectbox(\"Select Y-Axis\", available_columns)\n",
        "\n",
        "chart_type = st.radio(\"Select Chart Type\", [\"Scatter\", \"Bar\",\"Histogram\"])\n",
        "\n",
        "# Generate custom chart\n",
        "if st.button(\"Generate Chart\"):\n",
        "    if chart_type == \"Bar\":\n",
        "        y_axis = st.sidebar.selectbox(\"Select Y-Axis\", available_columns)\n",
        "        fig = px.bar(df, x=x_axis, y=y_axis, title=f\"📊 {y_axis} by {x_axis}\")\n",
        "\n",
        "    elif chart_type == \"Scatter\":\n",
        "        y_axis = st.sidebar.selectbox(\"Select Y-Axis\", available_columns)\n",
        "        fig = px.scatter(df, x=x_axis, y=y_axis, title=f\"📊 {x_axis} vs {y_axis}\")\n",
        "\n",
        "    elif chart_type == \"Histogram\":\n",
        "        fig = px.histogram(df, x=x_axis, title=f\"📊 Histogram of {x_axis}\")\n",
        "\n",
        "    st.plotly_chart(fig_custom)\n"
      ],
      "metadata": {
        "id": "-Fk_AnTPsKxq"
      },
      "execution_count": null,
      "outputs": []
    }
  ]
}